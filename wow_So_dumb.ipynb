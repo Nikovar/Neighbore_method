{
 "cells": [
  {
   "cell_type": "code",
   "execution_count": 1,
   "metadata": {},
   "outputs": [],
   "source": [
    "import random\n",
    "import numpy as np\n",
    "import pandas as pd\n",
    "import pylab as pl\n",
    "import math\n",
    "from matplotlib.colors import ListedColormap\n",
    "\n",
    "def generateData (numberOfClassEl, numberOfClasses):\n",
    "    data = []\n",
    "    for classNum in range(numberOfClasses):\n",
    "        #Choose random center of 2-dimensional gaussian\n",
    "        centerX, centerY = random.random()*5.0, random.random()*5.0\n",
    "        #Choose numberOfClassEl random nodes with RMS=0.5\n",
    "        for rowNum in range(numberOfClassEl):\n",
    "            data.append([ [random.gauss(centerX,0.5), random.gauss(centerY,0.5)], classNum])\n",
    "    return data\n",
    "\n",
    "def showData (nClasses, nItemsInClass):\n",
    "    trainData      = generateData (nItemsInClass, nClasses)\n",
    "    classColormap  = ListedColormap(['#FF0000', '#00FF00', '#FFFFFF'])\n",
    "    pl.scatter([trainData[i][0][0] for i in range(len(trainData))],\n",
    "               [trainData[i][0][1] for i in range(len(trainData))],\n",
    "               c=[trainData[i][1] for i in range(len(trainData))],\n",
    "               cmap=classColormap)\n",
    "    pl.show()   \n",
    "\n",
    "#Visualize classification regions\n",
    "def showDataOnMesh (nClasses, nItemsInClass, k):\n",
    "    #Generate a mesh of nodes that covers all train cases\n",
    "    def generateTestMesh (trainData):\n",
    "        x_min = min( [trainData[i][0][0] for i in range(len(trainData))] ) - 1.0\n",
    "        x_max = max( [trainData[i][0][0] for i in range(len(trainData))] ) + 1.0\n",
    "        y_min = min( [trainData[i][0][1] for i in range(len(trainData))] ) - 1.0\n",
    "        y_max = max( [trainData[i][0][1] for i in range(len(trainData))] ) + 1.0\n",
    "        h = 0.05\n",
    "        testX, testY = np.meshgrid(np.arange(x_min, x_max, h),\n",
    "                                   np.arange(y_min, y_max, h))\n",
    "        return [testX, testY]\n",
    "    trainData      = generateData (nItemsInClass, nClasses)\n",
    "    testMesh       = generateTestMesh (trainData)\t\n",
    "    testMeshLabels = classifyKNN (trainData, zip(testMesh[0].ravel(), testMesh[1].ravel()), k, nClasses)\n",
    "    classColormap  = ListedColormap(['#FF0000', '#00FF00', '#FFFFFF'])\n",
    "    testColormap   = ListedColormap(['#FFAAAA', '#AAFFAA', '#AAAAAA'])\n",
    "    pl.pcolormesh(testMesh[0],\n",
    "                  testMesh[1],\n",
    "                  np.asarray(testMeshLabels).reshape(testMesh[0].shape),\n",
    "                  cmap=testColormap)\n",
    "    pl.scatter([trainData[i][0][0] for i in range(len(trainData))],\n",
    "               [trainData[i][0][1] for i in range(len(trainData))],\n",
    "               c=[trainData[i][1] for i in range(len(trainData))],\n",
    "               cmap=classColormap)\n",
    "    pl.show()\n",
    "\n",
    "\n",
    "\n",
    "    \n"
   ]
  },
  {
   "cell_type": "code",
   "execution_count": 3,
   "metadata": {},
   "outputs": [
    {
     "data": {
      "image/png": "[encoded data removed]",
      "text/plain": [
       "<Figure size 432x288 with 1 Axes>"
      ]
     },
     "metadata": {},
     "output_type": "display_data"
    },
    {
     "ename": "NameError",
     "evalue": "name 'classifyKNN' is not defined",
     "output_type": "error",
     "traceback": [
      "\u001b[1;31m---------------------------------------------------------------------------\u001b[0m",
      "\u001b[1;31mNameError\u001b[0m                                 Traceback (most recent call last)",
      "\u001b[1;32m<ipython-input-3-697210c2aee4>\u001b[0m in \u001b[0;36m<module>\u001b[1;34m()\u001b[0m\n\u001b[0;32m      1\u001b[0m \u001b[0mshowData\u001b[0m \u001b[1;33m(\u001b[0m\u001b[1;36m3\u001b[0m\u001b[1;33m,\u001b[0m \u001b[1;36m40\u001b[0m\u001b[1;33m)\u001b[0m\u001b[1;33m\u001b[0m\u001b[0m\n\u001b[1;32m----> 2\u001b[1;33m \u001b[0mshowDataOnMesh\u001b[0m\u001b[1;33m(\u001b[0m\u001b[1;36m3\u001b[0m\u001b[1;33m,\u001b[0m\u001b[1;36m40\u001b[0m\u001b[1;33m,\u001b[0m\u001b[1;36m3\u001b[0m\u001b[1;33m)\u001b[0m\u001b[1;33m\u001b[0m\u001b[0m\n\u001b[0m",
      "\u001b[1;32m<ipython-input-1-d72f27b76894>\u001b[0m in \u001b[0;36mshowDataOnMesh\u001b[1;34m(nClasses, nItemsInClass, k)\u001b[0m\n\u001b[0;32m     39\u001b[0m     \u001b[0mtrainData\u001b[0m      \u001b[1;33m=\u001b[0m \u001b[0mgenerateData\u001b[0m \u001b[1;33m(\u001b[0m\u001b[0mnItemsInClass\u001b[0m\u001b[1;33m,\u001b[0m \u001b[0mnClasses\u001b[0m\u001b[1;33m)\u001b[0m\u001b[1;33m\u001b[0m\u001b[0m\n\u001b[0;32m     40\u001b[0m     \u001b[0mtestMesh\u001b[0m       \u001b[1;33m=\u001b[0m \u001b[0mgenerateTestMesh\u001b[0m \u001b[1;33m(\u001b[0m\u001b[0mtrainData\u001b[0m\u001b[1;33m)\u001b[0m\u001b[1;33m\u001b[0m\u001b[0m\n\u001b[1;32m---> 41\u001b[1;33m     \u001b[0mtestMeshLabels\u001b[0m \u001b[1;33m=\u001b[0m \u001b[0mclassifyKNN\u001b[0m \u001b[1;33m(\u001b[0m\u001b[0mtrainData\u001b[0m\u001b[1;33m,\u001b[0m \u001b[0mzip\u001b[0m\u001b[1;33m(\u001b[0m\u001b[0mtestMesh\u001b[0m\u001b[1;33m[\u001b[0m\u001b[1;36m0\u001b[0m\u001b[1;33m]\u001b[0m\u001b[1;33m.\u001b[0m\u001b[0mravel\u001b[0m\u001b[1;33m(\u001b[0m\u001b[1;33m)\u001b[0m\u001b[1;33m,\u001b[0m \u001b[0mtestMesh\u001b[0m\u001b[1;33m[\u001b[0m\u001b[1;36m1\u001b[0m\u001b[1;33m]\u001b[0m\u001b[1;33m.\u001b[0m\u001b[0mravel\u001b[0m\u001b[1;33m(\u001b[0m\u001b[1;33m)\u001b[0m\u001b[1;33m)\u001b[0m\u001b[1;33m,\u001b[0m \u001b[0mk\u001b[0m\u001b[1;33m,\u001b[0m \u001b[0mnClasses\u001b[0m\u001b[1;33m)\u001b[0m\u001b[1;33m\u001b[0m\u001b[0m\n\u001b[0m\u001b[0;32m     42\u001b[0m     \u001b[0mclassColormap\u001b[0m  \u001b[1;33m=\u001b[0m \u001b[0mListedColormap\u001b[0m\u001b[1;33m(\u001b[0m\u001b[1;33m[\u001b[0m\u001b[1;34m'#FF0000'\u001b[0m\u001b[1;33m,\u001b[0m \u001b[1;34m'#00FF00'\u001b[0m\u001b[1;33m,\u001b[0m \u001b[1;34m'#FFFFFF'\u001b[0m\u001b[1;33m]\u001b[0m\u001b[1;33m)\u001b[0m\u001b[1;33m\u001b[0m\u001b[0m\n\u001b[0;32m     43\u001b[0m     \u001b[0mtestColormap\u001b[0m   \u001b[1;33m=\u001b[0m \u001b[0mListedColormap\u001b[0m\u001b[1;33m(\u001b[0m\u001b[1;33m[\u001b[0m\u001b[1;34m'#FFAAAA'\u001b[0m\u001b[1;33m,\u001b[0m \u001b[1;34m'#AAFFAA'\u001b[0m\u001b[1;33m,\u001b[0m \u001b[1;34m'#AAAAAA'\u001b[0m\u001b[1;33m]\u001b[0m\u001b[1;33m)\u001b[0m\u001b[1;33m\u001b[0m\u001b[0m\n",
      "\u001b[1;31mNameError\u001b[0m: name 'classifyKNN' is not defined"
     ]
    }
   ],
   "source": [
    "showData (3, 40)\n",
    "showDataOnMesh(3,40,3)"
   ]
  },
  {
   "cell_type": "code",
   "execution_count": null,
   "metadata": {},
   "outputs": [],
   "source": []
  }
 ],
 "metadata": {
  "kernelspec": {
   "display_name": "Python 3",
   "language": "python",
   "name": "python3"
  },
  "language_info": {
   "codemirror_mode": {
    "name": "ipython",
    "version": 3
   },
   "file_extension": ".py",
   "mimetype": "text/x-python",
   "name": "python",
   "nbconvert_exporter": "python",
   "pygments_lexer": "ipython3",
   "version": "3.6.5"
  }
 },
 "nbformat": 4,
 "nbformat_minor": 2
}
